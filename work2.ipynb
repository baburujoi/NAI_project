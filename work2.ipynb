{
  "nbformat": 4,
  "nbformat_minor": 0,
  "metadata": {
    "colab": {
      "provenance": []
    },
    "kernelspec": {
      "name": "python3",
      "display_name": "Python 3"
    },
    "language_info": {
      "name": "python"
    }
  },
  "cells": [
    {
      "cell_type": "markdown",
      "source": [
        "Program powstał do **porównania działania 3 modeli języka** ( clip, top_15_anime_characters_image_detection, AnimeCharacterClassifierMark1 ) na zbiorze **50 randomowo wylosowanych** ,ze zbioru pobranych, **obrazów postaci ze znanych anime** tj. Eren Jeager, Naruto, Vegeta, Lelouch Lamperouge, Killua. Postacie zostały dobranie na podstawie postaci na których był uprzednio trenowany model top_15_anime_characters_image_detection - posiadał najmniejszy zestaw danych testowych."
      ],
      "metadata": {
        "id": "ZKoac7clNPtK"
      }
    },
    {
      "cell_type": "markdown",
      "source": [
        "użyte modele :\n",
        "1. CLIP\n",
        "2. https://huggingface.co/dima806/top_15_anime_characters_image_detection\n",
        "3. https://huggingface.co/Abhiram4/AnimeCharacterClassifierMark1"
      ],
      "metadata": {
        "id": "K-BtLh3Vjrm-"
      }
    },
    {
      "cell_type": "markdown",
      "source": [
        "### NA POCZĄTKU NALEŻY POBRAĆ WSZYSTKIE POTRZEBNE BIBLIOTEKI\n"
      ],
      "metadata": {
        "id": "2HB1nDvvL7rT"
      }
    },
    {
      "cell_type": "code",
      "execution_count": null,
      "metadata": {
        "colab": {
          "base_uri": "https://localhost:8080/"
        },
        "id": "oHmoJeZ6RZuc",
        "outputId": "d4b80081-2b96-44c5-c072-10e19747eecc"
      },
      "outputs": [
        {
          "output_type": "stream",
          "name": "stdout",
          "text": [
            "Requirement already satisfied: transformers in /usr/local/lib/python3.11/dist-packages (4.47.1)\n",
            "Requirement already satisfied: datasets in /usr/local/lib/python3.11/dist-packages (3.2.0)\n",
            "Requirement already satisfied: huggingface_hub in /usr/local/lib/python3.11/dist-packages (0.27.1)\n",
            "Requirement already satisfied: pillow in /usr/local/lib/python3.11/dist-packages (11.1.0)\n",
            "Requirement already satisfied: torchvision in /usr/local/lib/python3.11/dist-packages (0.20.1+cu121)\n",
            "Requirement already satisfied: numpy in /usr/local/lib/python3.11/dist-packages (1.26.4)\n",
            "Requirement already satisfied: scikit-learn in /usr/local/lib/python3.11/dist-packages (1.6.0)\n",
            "Requirement already satisfied: icrawler in /usr/local/lib/python3.11/dist-packages (0.6.9)\n",
            "Requirement already satisfied: filelock in /usr/local/lib/python3.11/dist-packages (from transformers) (3.16.1)\n",
            "Requirement already satisfied: packaging>=20.0 in /usr/local/lib/python3.11/dist-packages (from transformers) (24.2)\n",
            "Requirement already satisfied: pyyaml>=5.1 in /usr/local/lib/python3.11/dist-packages (from transformers) (6.0.2)\n",
            "Requirement already satisfied: regex!=2019.12.17 in /usr/local/lib/python3.11/dist-packages (from transformers) (2024.11.6)\n",
            "Requirement already satisfied: requests in /usr/local/lib/python3.11/dist-packages (from transformers) (2.32.3)\n",
            "Requirement already satisfied: tokenizers<0.22,>=0.21 in /usr/local/lib/python3.11/dist-packages (from transformers) (0.21.0)\n",
            "Requirement already satisfied: safetensors>=0.4.1 in /usr/local/lib/python3.11/dist-packages (from transformers) (0.5.2)\n",
            "Requirement already satisfied: tqdm>=4.27 in /usr/local/lib/python3.11/dist-packages (from transformers) (4.67.1)\n",
            "Requirement already satisfied: pyarrow>=15.0.0 in /usr/local/lib/python3.11/dist-packages (from datasets) (17.0.0)\n",
            "Requirement already satisfied: dill<0.3.9,>=0.3.0 in /usr/local/lib/python3.11/dist-packages (from datasets) (0.3.8)\n",
            "Requirement already satisfied: pandas in /usr/local/lib/python3.11/dist-packages (from datasets) (2.2.2)\n",
            "Requirement already satisfied: xxhash in /usr/local/lib/python3.11/dist-packages (from datasets) (3.5.0)\n",
            "Requirement already satisfied: multiprocess<0.70.17 in /usr/local/lib/python3.11/dist-packages (from datasets) (0.70.16)\n",
            "Requirement already satisfied: fsspec<=2024.9.0,>=2023.1.0 in /usr/local/lib/python3.11/dist-packages (from fsspec[http]<=2024.9.0,>=2023.1.0->datasets) (2024.9.0)\n",
            "Requirement already satisfied: aiohttp in /usr/local/lib/python3.11/dist-packages (from datasets) (3.11.11)\n",
            "Requirement already satisfied: typing-extensions>=3.7.4.3 in /usr/local/lib/python3.11/dist-packages (from huggingface_hub) (4.12.2)\n",
            "Requirement already satisfied: torch==2.5.1 in /usr/local/lib/python3.11/dist-packages (from torchvision) (2.5.1+cu121)\n",
            "Requirement already satisfied: networkx in /usr/local/lib/python3.11/dist-packages (from torch==2.5.1->torchvision) (3.4.2)\n",
            "Requirement already satisfied: jinja2 in /usr/local/lib/python3.11/dist-packages (from torch==2.5.1->torchvision) (3.1.5)\n",
            "Requirement already satisfied: nvidia-cuda-nvrtc-cu12==12.1.105 in /usr/local/lib/python3.11/dist-packages (from torch==2.5.1->torchvision) (12.1.105)\n",
            "Requirement already satisfied: nvidia-cuda-runtime-cu12==12.1.105 in /usr/local/lib/python3.11/dist-packages (from torch==2.5.1->torchvision) (12.1.105)\n",
            "Requirement already satisfied: nvidia-cuda-cupti-cu12==12.1.105 in /usr/local/lib/python3.11/dist-packages (from torch==2.5.1->torchvision) (12.1.105)\n",
            "Requirement already satisfied: nvidia-cudnn-cu12==9.1.0.70 in /usr/local/lib/python3.11/dist-packages (from torch==2.5.1->torchvision) (9.1.0.70)\n",
            "Requirement already satisfied: nvidia-cublas-cu12==12.1.3.1 in /usr/local/lib/python3.11/dist-packages (from torch==2.5.1->torchvision) (12.1.3.1)\n",
            "Requirement already satisfied: nvidia-cufft-cu12==11.0.2.54 in /usr/local/lib/python3.11/dist-packages (from torch==2.5.1->torchvision) (11.0.2.54)\n",
            "Requirement already satisfied: nvidia-curand-cu12==10.3.2.106 in /usr/local/lib/python3.11/dist-packages (from torch==2.5.1->torchvision) (10.3.2.106)\n",
            "Requirement already satisfied: nvidia-cusolver-cu12==11.4.5.107 in /usr/local/lib/python3.11/dist-packages (from torch==2.5.1->torchvision) (11.4.5.107)\n",
            "Requirement already satisfied: nvidia-cusparse-cu12==12.1.0.106 in /usr/local/lib/python3.11/dist-packages (from torch==2.5.1->torchvision) (12.1.0.106)\n",
            "Requirement already satisfied: nvidia-nccl-cu12==2.21.5 in /usr/local/lib/python3.11/dist-packages (from torch==2.5.1->torchvision) (2.21.5)\n",
            "Requirement already satisfied: nvidia-nvtx-cu12==12.1.105 in /usr/local/lib/python3.11/dist-packages (from torch==2.5.1->torchvision) (12.1.105)\n",
            "Requirement already satisfied: triton==3.1.0 in /usr/local/lib/python3.11/dist-packages (from torch==2.5.1->torchvision) (3.1.0)\n",
            "Requirement already satisfied: sympy==1.13.1 in /usr/local/lib/python3.11/dist-packages (from torch==2.5.1->torchvision) (1.13.1)\n",
            "Requirement already satisfied: nvidia-nvjitlink-cu12 in /usr/local/lib/python3.11/dist-packages (from nvidia-cusolver-cu12==11.4.5.107->torch==2.5.1->torchvision) (12.6.85)\n",
            "Requirement already satisfied: mpmath<1.4,>=1.1.0 in /usr/local/lib/python3.11/dist-packages (from sympy==1.13.1->torch==2.5.1->torchvision) (1.3.0)\n",
            "Requirement already satisfied: scipy>=1.6.0 in /usr/local/lib/python3.11/dist-packages (from scikit-learn) (1.13.1)\n",
            "Requirement already satisfied: joblib>=1.2.0 in /usr/local/lib/python3.11/dist-packages (from scikit-learn) (1.4.2)\n",
            "Requirement already satisfied: threadpoolctl>=3.1.0 in /usr/local/lib/python3.11/dist-packages (from scikit-learn) (3.5.0)\n",
            "Requirement already satisfied: beautifulsoup4 in /usr/local/lib/python3.11/dist-packages (from icrawler) (4.12.3)\n",
            "Requirement already satisfied: bs4 in /usr/local/lib/python3.11/dist-packages (from icrawler) (0.0.2)\n",
            "Requirement already satisfied: lxml in /usr/local/lib/python3.11/dist-packages (from icrawler) (5.3.0)\n",
            "Requirement already satisfied: six in /usr/local/lib/python3.11/dist-packages (from icrawler) (1.17.0)\n",
            "Requirement already satisfied: aiohappyeyeballs>=2.3.0 in /usr/local/lib/python3.11/dist-packages (from aiohttp->datasets) (2.4.4)\n",
            "Requirement already satisfied: aiosignal>=1.1.2 in /usr/local/lib/python3.11/dist-packages (from aiohttp->datasets) (1.3.2)\n",
            "Requirement already satisfied: attrs>=17.3.0 in /usr/local/lib/python3.11/dist-packages (from aiohttp->datasets) (24.3.0)\n",
            "Requirement already satisfied: frozenlist>=1.1.1 in /usr/local/lib/python3.11/dist-packages (from aiohttp->datasets) (1.5.0)\n",
            "Requirement already satisfied: multidict<7.0,>=4.5 in /usr/local/lib/python3.11/dist-packages (from aiohttp->datasets) (6.1.0)\n",
            "Requirement already satisfied: propcache>=0.2.0 in /usr/local/lib/python3.11/dist-packages (from aiohttp->datasets) (0.2.1)\n",
            "Requirement already satisfied: yarl<2.0,>=1.17.0 in /usr/local/lib/python3.11/dist-packages (from aiohttp->datasets) (1.18.3)\n",
            "Requirement already satisfied: charset-normalizer<4,>=2 in /usr/local/lib/python3.11/dist-packages (from requests->transformers) (3.4.1)\n",
            "Requirement already satisfied: idna<4,>=2.5 in /usr/local/lib/python3.11/dist-packages (from requests->transformers) (3.10)\n",
            "Requirement already satisfied: urllib3<3,>=1.21.1 in /usr/local/lib/python3.11/dist-packages (from requests->transformers) (2.3.0)\n",
            "Requirement already satisfied: certifi>=2017.4.17 in /usr/local/lib/python3.11/dist-packages (from requests->transformers) (2024.12.14)\n",
            "Requirement already satisfied: soupsieve>1.2 in /usr/local/lib/python3.11/dist-packages (from beautifulsoup4->icrawler) (2.6)\n",
            "Requirement already satisfied: python-dateutil>=2.8.2 in /usr/local/lib/python3.11/dist-packages (from pandas->datasets) (2.8.2)\n",
            "Requirement already satisfied: pytz>=2020.1 in /usr/local/lib/python3.11/dist-packages (from pandas->datasets) (2024.2)\n",
            "Requirement already satisfied: tzdata>=2022.7 in /usr/local/lib/python3.11/dist-packages (from pandas->datasets) (2024.2)\n",
            "Requirement already satisfied: MarkupSafe>=2.0 in /usr/local/lib/python3.11/dist-packages (from jinja2->torch==2.5.1->torchvision) (3.0.2)\n"
          ]
        }
      ],
      "source": [
        "!pip install transformers datasets huggingface_hub pillow torchvision numpy scikit-learn icrawler"
      ]
    },
    {
      "cell_type": "code",
      "source": [
        "!pip install python-Levenshtein"
      ],
      "metadata": {
        "colab": {
          "base_uri": "https://localhost:8080/"
        },
        "id": "HChnApw9R9Dy",
        "outputId": "c5bdddb3-5781-41aa-d311-16113f87dd7b"
      },
      "execution_count": null,
      "outputs": [
        {
          "output_type": "stream",
          "name": "stdout",
          "text": [
            "Requirement already satisfied: python-Levenshtein in /usr/local/lib/python3.11/dist-packages (0.26.1)\n",
            "Requirement already satisfied: Levenshtein==0.26.1 in /usr/local/lib/python3.11/dist-packages (from python-Levenshtein) (0.26.1)\n",
            "Requirement already satisfied: rapidfuzz<4.0.0,>=3.9.0 in /usr/local/lib/python3.11/dist-packages (from Levenshtein==0.26.1->python-Levenshtein) (3.11.0)\n"
          ]
        }
      ]
    },
    {
      "cell_type": "code",
      "source": [
        "import os\n",
        "import requests\n",
        "\n",
        "SAVE_DIR = \"safebooru_images\"\n",
        "CHARACTERS = [\n",
        "    \"Eren Jaeger\",\n",
        "    \"Killua\",\n",
        "    \"Lelouch Lamperouge\",\n",
        "    \"Vegeta\",\n",
        "    \"Naruto\"\n",
        "]\n",
        "\n",
        "BASE_URL = \"https://safebooru.org/index.php?page=dapi&s=post&q=index&json=1\"\n",
        "LIMIT_PER_CHARACTER = 50\n",
        "\n",
        "os.makedirs(SAVE_DIR, exist_ok=True)\n",
        "\n",
        "# Pobieranie obrazów dla nowych postaci\n",
        "for character in CHARACTERS:\n",
        "    print(f\"pobieranie obrazów dla : {character}...\")\n",
        "    params = {\n",
        "        \"tags\": f\"{character.replace(' ', '_')}\",\n",
        "        \"limit\": LIMIT_PER_CHARACTER\n",
        "    }\n",
        "    response = requests.get(BASE_URL, params=params)\n",
        "\n",
        "    if response.status_code == 200:\n",
        "        posts = response.json()\n",
        "        char_dir = os.path.join(SAVE_DIR, character.replace(\" \", \"_\"))\n",
        "        os.makedirs(char_dir, exist_ok=True)\n",
        "\n",
        "        for i, post in enumerate(posts):\n",
        "            if 'file_url' in post:\n",
        "                try:\n",
        "                    img_url = post['file_url']  # Pobranie URL do obrazu\n",
        "                    img_data = requests.get(img_url).content\n",
        "                    img_path = os.path.join(char_dir, f\"{character.replace(' ', '_')}_{i+1}.jpg\")\n",
        "\n",
        "                    with open(img_path, 'wb') as img_file:\n",
        "                        img_file.write(img_data)\n",
        "                    print(f\"zapisano: {img_path}\")\n",
        "                except Exception as e:\n",
        "                    print(f\"błąd przy pobieraniu : {e}\")\n",
        "    else:\n",
        "        print(f\"nie można pobrać danych dla {character}. kod błędu: {response.status_code}\")\n",
        "\n",
        "print(\"Pobieranie zakończone\")"
      ],
      "metadata": {
        "colab": {
          "base_uri": "https://localhost:8080/",
          "height": 1000
        },
        "id": "0oJVVEwJReky",
        "outputId": "8da7cae9-556a-444d-f9cd-039ca1e9f0cd"
      },
      "execution_count": null,
      "outputs": [
        {
          "output_type": "stream",
          "name": "stdout",
          "text": [
            "pobieranie obrazów dla : Eren Jaeger...\n",
            "zapisano: safebooru_images/Eren_Jaeger/Eren_Jaeger_1.jpg\n",
            "zapisano: safebooru_images/Eren_Jaeger/Eren_Jaeger_2.jpg\n",
            "zapisano: safebooru_images/Eren_Jaeger/Eren_Jaeger_3.jpg\n",
            "zapisano: safebooru_images/Eren_Jaeger/Eren_Jaeger_4.jpg\n",
            "zapisano: safebooru_images/Eren_Jaeger/Eren_Jaeger_5.jpg\n",
            "zapisano: safebooru_images/Eren_Jaeger/Eren_Jaeger_6.jpg\n",
            "zapisano: safebooru_images/Eren_Jaeger/Eren_Jaeger_7.jpg\n",
            "zapisano: safebooru_images/Eren_Jaeger/Eren_Jaeger_8.jpg\n",
            "zapisano: safebooru_images/Eren_Jaeger/Eren_Jaeger_9.jpg\n",
            "zapisano: safebooru_images/Eren_Jaeger/Eren_Jaeger_10.jpg\n",
            "zapisano: safebooru_images/Eren_Jaeger/Eren_Jaeger_11.jpg\n",
            "zapisano: safebooru_images/Eren_Jaeger/Eren_Jaeger_12.jpg\n",
            "zapisano: safebooru_images/Eren_Jaeger/Eren_Jaeger_13.jpg\n",
            "zapisano: safebooru_images/Eren_Jaeger/Eren_Jaeger_14.jpg\n",
            "zapisano: safebooru_images/Eren_Jaeger/Eren_Jaeger_15.jpg\n",
            "zapisano: safebooru_images/Eren_Jaeger/Eren_Jaeger_16.jpg\n",
            "zapisano: safebooru_images/Eren_Jaeger/Eren_Jaeger_17.jpg\n",
            "zapisano: safebooru_images/Eren_Jaeger/Eren_Jaeger_18.jpg\n",
            "zapisano: safebooru_images/Eren_Jaeger/Eren_Jaeger_19.jpg\n",
            "zapisano: safebooru_images/Eren_Jaeger/Eren_Jaeger_20.jpg\n",
            "zapisano: safebooru_images/Eren_Jaeger/Eren_Jaeger_21.jpg\n",
            "zapisano: safebooru_images/Eren_Jaeger/Eren_Jaeger_22.jpg\n",
            "zapisano: safebooru_images/Eren_Jaeger/Eren_Jaeger_23.jpg\n",
            "zapisano: safebooru_images/Eren_Jaeger/Eren_Jaeger_24.jpg\n",
            "zapisano: safebooru_images/Eren_Jaeger/Eren_Jaeger_25.jpg\n",
            "zapisano: safebooru_images/Eren_Jaeger/Eren_Jaeger_26.jpg\n",
            "zapisano: safebooru_images/Eren_Jaeger/Eren_Jaeger_27.jpg\n",
            "zapisano: safebooru_images/Eren_Jaeger/Eren_Jaeger_28.jpg\n",
            "zapisano: safebooru_images/Eren_Jaeger/Eren_Jaeger_29.jpg\n",
            "zapisano: safebooru_images/Eren_Jaeger/Eren_Jaeger_30.jpg\n",
            "zapisano: safebooru_images/Eren_Jaeger/Eren_Jaeger_31.jpg\n",
            "zapisano: safebooru_images/Eren_Jaeger/Eren_Jaeger_32.jpg\n",
            "zapisano: safebooru_images/Eren_Jaeger/Eren_Jaeger_33.jpg\n",
            "zapisano: safebooru_images/Eren_Jaeger/Eren_Jaeger_34.jpg\n",
            "zapisano: safebooru_images/Eren_Jaeger/Eren_Jaeger_35.jpg\n",
            "zapisano: safebooru_images/Eren_Jaeger/Eren_Jaeger_36.jpg\n",
            "zapisano: safebooru_images/Eren_Jaeger/Eren_Jaeger_37.jpg\n",
            "zapisano: safebooru_images/Eren_Jaeger/Eren_Jaeger_38.jpg\n",
            "zapisano: safebooru_images/Eren_Jaeger/Eren_Jaeger_39.jpg\n",
            "zapisano: safebooru_images/Eren_Jaeger/Eren_Jaeger_40.jpg\n",
            "zapisano: safebooru_images/Eren_Jaeger/Eren_Jaeger_41.jpg\n",
            "zapisano: safebooru_images/Eren_Jaeger/Eren_Jaeger_42.jpg\n",
            "zapisano: safebooru_images/Eren_Jaeger/Eren_Jaeger_43.jpg\n",
            "zapisano: safebooru_images/Eren_Jaeger/Eren_Jaeger_44.jpg\n",
            "zapisano: safebooru_images/Eren_Jaeger/Eren_Jaeger_45.jpg\n",
            "zapisano: safebooru_images/Eren_Jaeger/Eren_Jaeger_46.jpg\n"
          ]
        },
        {
          "output_type": "error",
          "ename": "KeyboardInterrupt",
          "evalue": "",
          "traceback": [
            "\u001b[0;31m---------------------------------------------------------------------------\u001b[0m",
            "\u001b[0;31mKeyboardInterrupt\u001b[0m                         Traceback (most recent call last)",
            "\u001b[0;32m<ipython-input-15-6874ebacc861>\u001b[0m in \u001b[0;36m<cell line: 0>\u001b[0;34m()\u001b[0m\n\u001b[1;32m     34\u001b[0m                 \u001b[0;32mtry\u001b[0m\u001b[0;34m:\u001b[0m\u001b[0;34m\u001b[0m\u001b[0;34m\u001b[0m\u001b[0m\n\u001b[1;32m     35\u001b[0m                     \u001b[0mimg_url\u001b[0m \u001b[0;34m=\u001b[0m \u001b[0mpost\u001b[0m\u001b[0;34m[\u001b[0m\u001b[0;34m'file_url'\u001b[0m\u001b[0;34m]\u001b[0m  \u001b[0;31m# Pobranie URL do obrazu\u001b[0m\u001b[0;34m\u001b[0m\u001b[0;34m\u001b[0m\u001b[0m\n\u001b[0;32m---> 36\u001b[0;31m                     \u001b[0mimg_data\u001b[0m \u001b[0;34m=\u001b[0m \u001b[0mrequests\u001b[0m\u001b[0;34m.\u001b[0m\u001b[0mget\u001b[0m\u001b[0;34m(\u001b[0m\u001b[0mimg_url\u001b[0m\u001b[0;34m)\u001b[0m\u001b[0;34m.\u001b[0m\u001b[0mcontent\u001b[0m\u001b[0;34m\u001b[0m\u001b[0;34m\u001b[0m\u001b[0m\n\u001b[0m\u001b[1;32m     37\u001b[0m                     \u001b[0mimg_path\u001b[0m \u001b[0;34m=\u001b[0m \u001b[0mos\u001b[0m\u001b[0;34m.\u001b[0m\u001b[0mpath\u001b[0m\u001b[0;34m.\u001b[0m\u001b[0mjoin\u001b[0m\u001b[0;34m(\u001b[0m\u001b[0mchar_dir\u001b[0m\u001b[0;34m,\u001b[0m \u001b[0;34mf\"{character.replace(' ', '_')}_{i+1}.jpg\"\u001b[0m\u001b[0;34m)\u001b[0m\u001b[0;34m\u001b[0m\u001b[0;34m\u001b[0m\u001b[0m\n\u001b[1;32m     38\u001b[0m \u001b[0;34m\u001b[0m\u001b[0m\n",
            "\u001b[0;32m/usr/local/lib/python3.11/dist-packages/requests/api.py\u001b[0m in \u001b[0;36mget\u001b[0;34m(url, params, **kwargs)\u001b[0m\n\u001b[1;32m     71\u001b[0m     \"\"\"\n\u001b[1;32m     72\u001b[0m \u001b[0;34m\u001b[0m\u001b[0m\n\u001b[0;32m---> 73\u001b[0;31m     \u001b[0;32mreturn\u001b[0m \u001b[0mrequest\u001b[0m\u001b[0;34m(\u001b[0m\u001b[0;34m\"get\"\u001b[0m\u001b[0;34m,\u001b[0m \u001b[0murl\u001b[0m\u001b[0;34m,\u001b[0m \u001b[0mparams\u001b[0m\u001b[0;34m=\u001b[0m\u001b[0mparams\u001b[0m\u001b[0;34m,\u001b[0m \u001b[0;34m**\u001b[0m\u001b[0mkwargs\u001b[0m\u001b[0;34m)\u001b[0m\u001b[0;34m\u001b[0m\u001b[0;34m\u001b[0m\u001b[0m\n\u001b[0m\u001b[1;32m     74\u001b[0m \u001b[0;34m\u001b[0m\u001b[0m\n\u001b[1;32m     75\u001b[0m \u001b[0;34m\u001b[0m\u001b[0m\n",
            "\u001b[0;32m/usr/local/lib/python3.11/dist-packages/requests/api.py\u001b[0m in \u001b[0;36mrequest\u001b[0;34m(method, url, **kwargs)\u001b[0m\n\u001b[1;32m     57\u001b[0m     \u001b[0;31m# cases, and look like a memory leak in others.\u001b[0m\u001b[0;34m\u001b[0m\u001b[0;34m\u001b[0m\u001b[0m\n\u001b[1;32m     58\u001b[0m     \u001b[0;32mwith\u001b[0m \u001b[0msessions\u001b[0m\u001b[0;34m.\u001b[0m\u001b[0mSession\u001b[0m\u001b[0;34m(\u001b[0m\u001b[0;34m)\u001b[0m \u001b[0;32mas\u001b[0m \u001b[0msession\u001b[0m\u001b[0;34m:\u001b[0m\u001b[0;34m\u001b[0m\u001b[0;34m\u001b[0m\u001b[0m\n\u001b[0;32m---> 59\u001b[0;31m         \u001b[0;32mreturn\u001b[0m \u001b[0msession\u001b[0m\u001b[0;34m.\u001b[0m\u001b[0mrequest\u001b[0m\u001b[0;34m(\u001b[0m\u001b[0mmethod\u001b[0m\u001b[0;34m=\u001b[0m\u001b[0mmethod\u001b[0m\u001b[0;34m,\u001b[0m \u001b[0murl\u001b[0m\u001b[0;34m=\u001b[0m\u001b[0murl\u001b[0m\u001b[0;34m,\u001b[0m \u001b[0;34m**\u001b[0m\u001b[0mkwargs\u001b[0m\u001b[0;34m)\u001b[0m\u001b[0;34m\u001b[0m\u001b[0;34m\u001b[0m\u001b[0m\n\u001b[0m\u001b[1;32m     60\u001b[0m \u001b[0;34m\u001b[0m\u001b[0m\n\u001b[1;32m     61\u001b[0m \u001b[0;34m\u001b[0m\u001b[0m\n",
            "\u001b[0;32m/usr/local/lib/python3.11/dist-packages/requests/sessions.py\u001b[0m in \u001b[0;36mrequest\u001b[0;34m(self, method, url, params, data, headers, cookies, files, auth, timeout, allow_redirects, proxies, hooks, stream, verify, cert, json)\u001b[0m\n\u001b[1;32m    587\u001b[0m         }\n\u001b[1;32m    588\u001b[0m         \u001b[0msend_kwargs\u001b[0m\u001b[0;34m.\u001b[0m\u001b[0mupdate\u001b[0m\u001b[0;34m(\u001b[0m\u001b[0msettings\u001b[0m\u001b[0;34m)\u001b[0m\u001b[0;34m\u001b[0m\u001b[0;34m\u001b[0m\u001b[0m\n\u001b[0;32m--> 589\u001b[0;31m         \u001b[0mresp\u001b[0m \u001b[0;34m=\u001b[0m \u001b[0mself\u001b[0m\u001b[0;34m.\u001b[0m\u001b[0msend\u001b[0m\u001b[0;34m(\u001b[0m\u001b[0mprep\u001b[0m\u001b[0;34m,\u001b[0m \u001b[0;34m**\u001b[0m\u001b[0msend_kwargs\u001b[0m\u001b[0;34m)\u001b[0m\u001b[0;34m\u001b[0m\u001b[0;34m\u001b[0m\u001b[0m\n\u001b[0m\u001b[1;32m    590\u001b[0m \u001b[0;34m\u001b[0m\u001b[0m\n\u001b[1;32m    591\u001b[0m         \u001b[0;32mreturn\u001b[0m \u001b[0mresp\u001b[0m\u001b[0;34m\u001b[0m\u001b[0;34m\u001b[0m\u001b[0m\n",
            "\u001b[0;32m/usr/local/lib/python3.11/dist-packages/requests/sessions.py\u001b[0m in \u001b[0;36msend\u001b[0;34m(self, request, **kwargs)\u001b[0m\n\u001b[1;32m    701\u001b[0m \u001b[0;34m\u001b[0m\u001b[0m\n\u001b[1;32m    702\u001b[0m         \u001b[0;31m# Send the request\u001b[0m\u001b[0;34m\u001b[0m\u001b[0;34m\u001b[0m\u001b[0m\n\u001b[0;32m--> 703\u001b[0;31m         \u001b[0mr\u001b[0m \u001b[0;34m=\u001b[0m \u001b[0madapter\u001b[0m\u001b[0;34m.\u001b[0m\u001b[0msend\u001b[0m\u001b[0;34m(\u001b[0m\u001b[0mrequest\u001b[0m\u001b[0;34m,\u001b[0m \u001b[0;34m**\u001b[0m\u001b[0mkwargs\u001b[0m\u001b[0;34m)\u001b[0m\u001b[0;34m\u001b[0m\u001b[0;34m\u001b[0m\u001b[0m\n\u001b[0m\u001b[1;32m    704\u001b[0m \u001b[0;34m\u001b[0m\u001b[0m\n\u001b[1;32m    705\u001b[0m         \u001b[0;31m# Total elapsed time of the request (approximately)\u001b[0m\u001b[0;34m\u001b[0m\u001b[0;34m\u001b[0m\u001b[0m\n",
            "\u001b[0;32m/usr/local/lib/python3.11/dist-packages/requests/adapters.py\u001b[0m in \u001b[0;36msend\u001b[0;34m(self, request, stream, timeout, verify, cert, proxies)\u001b[0m\n\u001b[1;32m    665\u001b[0m \u001b[0;34m\u001b[0m\u001b[0m\n\u001b[1;32m    666\u001b[0m         \u001b[0;32mtry\u001b[0m\u001b[0;34m:\u001b[0m\u001b[0;34m\u001b[0m\u001b[0;34m\u001b[0m\u001b[0m\n\u001b[0;32m--> 667\u001b[0;31m             resp = conn.urlopen(\n\u001b[0m\u001b[1;32m    668\u001b[0m                 \u001b[0mmethod\u001b[0m\u001b[0;34m=\u001b[0m\u001b[0mrequest\u001b[0m\u001b[0;34m.\u001b[0m\u001b[0mmethod\u001b[0m\u001b[0;34m,\u001b[0m\u001b[0;34m\u001b[0m\u001b[0;34m\u001b[0m\u001b[0m\n\u001b[1;32m    669\u001b[0m                 \u001b[0murl\u001b[0m\u001b[0;34m=\u001b[0m\u001b[0murl\u001b[0m\u001b[0;34m,\u001b[0m\u001b[0;34m\u001b[0m\u001b[0;34m\u001b[0m\u001b[0m\n",
            "\u001b[0;32m/usr/local/lib/python3.11/dist-packages/urllib3/connectionpool.py\u001b[0m in \u001b[0;36murlopen\u001b[0;34m(self, method, url, body, headers, retries, redirect, assert_same_host, timeout, pool_timeout, release_conn, chunked, body_pos, preload_content, decode_content, **response_kw)\u001b[0m\n\u001b[1;32m    785\u001b[0m \u001b[0;34m\u001b[0m\u001b[0m\n\u001b[1;32m    786\u001b[0m             \u001b[0;31m# Make the request on the HTTPConnection object\u001b[0m\u001b[0;34m\u001b[0m\u001b[0;34m\u001b[0m\u001b[0m\n\u001b[0;32m--> 787\u001b[0;31m             response = self._make_request(\n\u001b[0m\u001b[1;32m    788\u001b[0m                 \u001b[0mconn\u001b[0m\u001b[0;34m,\u001b[0m\u001b[0;34m\u001b[0m\u001b[0;34m\u001b[0m\u001b[0m\n\u001b[1;32m    789\u001b[0m                 \u001b[0mmethod\u001b[0m\u001b[0;34m,\u001b[0m\u001b[0;34m\u001b[0m\u001b[0;34m\u001b[0m\u001b[0m\n",
            "\u001b[0;32m/usr/local/lib/python3.11/dist-packages/urllib3/connectionpool.py\u001b[0m in \u001b[0;36m_make_request\u001b[0;34m(self, conn, method, url, body, headers, retries, timeout, chunked, response_conn, preload_content, decode_content, enforce_content_length)\u001b[0m\n\u001b[1;32m    532\u001b[0m         \u001b[0;31m# Receive the response from the server\u001b[0m\u001b[0;34m\u001b[0m\u001b[0;34m\u001b[0m\u001b[0m\n\u001b[1;32m    533\u001b[0m         \u001b[0;32mtry\u001b[0m\u001b[0;34m:\u001b[0m\u001b[0;34m\u001b[0m\u001b[0;34m\u001b[0m\u001b[0m\n\u001b[0;32m--> 534\u001b[0;31m             \u001b[0mresponse\u001b[0m \u001b[0;34m=\u001b[0m \u001b[0mconn\u001b[0m\u001b[0;34m.\u001b[0m\u001b[0mgetresponse\u001b[0m\u001b[0;34m(\u001b[0m\u001b[0;34m)\u001b[0m\u001b[0;34m\u001b[0m\u001b[0;34m\u001b[0m\u001b[0m\n\u001b[0m\u001b[1;32m    535\u001b[0m         \u001b[0;32mexcept\u001b[0m \u001b[0;34m(\u001b[0m\u001b[0mBaseSSLError\u001b[0m\u001b[0;34m,\u001b[0m \u001b[0mOSError\u001b[0m\u001b[0;34m)\u001b[0m \u001b[0;32mas\u001b[0m \u001b[0me\u001b[0m\u001b[0;34m:\u001b[0m\u001b[0;34m\u001b[0m\u001b[0;34m\u001b[0m\u001b[0m\n\u001b[1;32m    536\u001b[0m             \u001b[0mself\u001b[0m\u001b[0;34m.\u001b[0m\u001b[0m_raise_timeout\u001b[0m\u001b[0;34m(\u001b[0m\u001b[0merr\u001b[0m\u001b[0;34m=\u001b[0m\u001b[0me\u001b[0m\u001b[0;34m,\u001b[0m \u001b[0murl\u001b[0m\u001b[0;34m=\u001b[0m\u001b[0murl\u001b[0m\u001b[0;34m,\u001b[0m \u001b[0mtimeout_value\u001b[0m\u001b[0;34m=\u001b[0m\u001b[0mread_timeout\u001b[0m\u001b[0;34m)\u001b[0m\u001b[0;34m\u001b[0m\u001b[0;34m\u001b[0m\u001b[0m\n",
            "\u001b[0;32m/usr/local/lib/python3.11/dist-packages/urllib3/connection.py\u001b[0m in \u001b[0;36mgetresponse\u001b[0;34m(self)\u001b[0m\n\u001b[1;32m    514\u001b[0m \u001b[0;34m\u001b[0m\u001b[0m\n\u001b[1;32m    515\u001b[0m         \u001b[0;31m# Get the response from http.client.HTTPConnection\u001b[0m\u001b[0;34m\u001b[0m\u001b[0;34m\u001b[0m\u001b[0m\n\u001b[0;32m--> 516\u001b[0;31m         \u001b[0mhttplib_response\u001b[0m \u001b[0;34m=\u001b[0m \u001b[0msuper\u001b[0m\u001b[0;34m(\u001b[0m\u001b[0;34m)\u001b[0m\u001b[0;34m.\u001b[0m\u001b[0mgetresponse\u001b[0m\u001b[0;34m(\u001b[0m\u001b[0;34m)\u001b[0m\u001b[0;34m\u001b[0m\u001b[0;34m\u001b[0m\u001b[0m\n\u001b[0m\u001b[1;32m    517\u001b[0m \u001b[0;34m\u001b[0m\u001b[0m\n\u001b[1;32m    518\u001b[0m         \u001b[0;32mtry\u001b[0m\u001b[0;34m:\u001b[0m\u001b[0;34m\u001b[0m\u001b[0;34m\u001b[0m\u001b[0m\n",
            "\u001b[0;32m/usr/lib/python3.11/http/client.py\u001b[0m in \u001b[0;36mgetresponse\u001b[0;34m(self)\u001b[0m\n\u001b[1;32m   1393\u001b[0m         \u001b[0;32mtry\u001b[0m\u001b[0;34m:\u001b[0m\u001b[0;34m\u001b[0m\u001b[0;34m\u001b[0m\u001b[0m\n\u001b[1;32m   1394\u001b[0m             \u001b[0;32mtry\u001b[0m\u001b[0;34m:\u001b[0m\u001b[0;34m\u001b[0m\u001b[0;34m\u001b[0m\u001b[0m\n\u001b[0;32m-> 1395\u001b[0;31m                 \u001b[0mresponse\u001b[0m\u001b[0;34m.\u001b[0m\u001b[0mbegin\u001b[0m\u001b[0;34m(\u001b[0m\u001b[0;34m)\u001b[0m\u001b[0;34m\u001b[0m\u001b[0;34m\u001b[0m\u001b[0m\n\u001b[0m\u001b[1;32m   1396\u001b[0m             \u001b[0;32mexcept\u001b[0m \u001b[0mConnectionError\u001b[0m\u001b[0;34m:\u001b[0m\u001b[0;34m\u001b[0m\u001b[0;34m\u001b[0m\u001b[0m\n\u001b[1;32m   1397\u001b[0m                 \u001b[0mself\u001b[0m\u001b[0;34m.\u001b[0m\u001b[0mclose\u001b[0m\u001b[0;34m(\u001b[0m\u001b[0;34m)\u001b[0m\u001b[0;34m\u001b[0m\u001b[0;34m\u001b[0m\u001b[0m\n",
            "\u001b[0;32m/usr/lib/python3.11/http/client.py\u001b[0m in \u001b[0;36mbegin\u001b[0;34m(self)\u001b[0m\n\u001b[1;32m    323\u001b[0m         \u001b[0;31m# read until we get a non-100 response\u001b[0m\u001b[0;34m\u001b[0m\u001b[0;34m\u001b[0m\u001b[0m\n\u001b[1;32m    324\u001b[0m         \u001b[0;32mwhile\u001b[0m \u001b[0;32mTrue\u001b[0m\u001b[0;34m:\u001b[0m\u001b[0;34m\u001b[0m\u001b[0;34m\u001b[0m\u001b[0m\n\u001b[0;32m--> 325\u001b[0;31m             \u001b[0mversion\u001b[0m\u001b[0;34m,\u001b[0m \u001b[0mstatus\u001b[0m\u001b[0;34m,\u001b[0m \u001b[0mreason\u001b[0m \u001b[0;34m=\u001b[0m \u001b[0mself\u001b[0m\u001b[0;34m.\u001b[0m\u001b[0m_read_status\u001b[0m\u001b[0;34m(\u001b[0m\u001b[0;34m)\u001b[0m\u001b[0;34m\u001b[0m\u001b[0;34m\u001b[0m\u001b[0m\n\u001b[0m\u001b[1;32m    326\u001b[0m             \u001b[0;32mif\u001b[0m \u001b[0mstatus\u001b[0m \u001b[0;34m!=\u001b[0m \u001b[0mCONTINUE\u001b[0m\u001b[0;34m:\u001b[0m\u001b[0;34m\u001b[0m\u001b[0;34m\u001b[0m\u001b[0m\n\u001b[1;32m    327\u001b[0m                 \u001b[0;32mbreak\u001b[0m\u001b[0;34m\u001b[0m\u001b[0;34m\u001b[0m\u001b[0m\n",
            "\u001b[0;32m/usr/lib/python3.11/http/client.py\u001b[0m in \u001b[0;36m_read_status\u001b[0;34m(self)\u001b[0m\n\u001b[1;32m    284\u001b[0m \u001b[0;34m\u001b[0m\u001b[0m\n\u001b[1;32m    285\u001b[0m     \u001b[0;32mdef\u001b[0m \u001b[0m_read_status\u001b[0m\u001b[0;34m(\u001b[0m\u001b[0mself\u001b[0m\u001b[0;34m)\u001b[0m\u001b[0;34m:\u001b[0m\u001b[0;34m\u001b[0m\u001b[0;34m\u001b[0m\u001b[0m\n\u001b[0;32m--> 286\u001b[0;31m         \u001b[0mline\u001b[0m \u001b[0;34m=\u001b[0m \u001b[0mstr\u001b[0m\u001b[0;34m(\u001b[0m\u001b[0mself\u001b[0m\u001b[0;34m.\u001b[0m\u001b[0mfp\u001b[0m\u001b[0;34m.\u001b[0m\u001b[0mreadline\u001b[0m\u001b[0;34m(\u001b[0m\u001b[0m_MAXLINE\u001b[0m \u001b[0;34m+\u001b[0m \u001b[0;36m1\u001b[0m\u001b[0;34m)\u001b[0m\u001b[0;34m,\u001b[0m \u001b[0;34m\"iso-8859-1\"\u001b[0m\u001b[0;34m)\u001b[0m\u001b[0;34m\u001b[0m\u001b[0;34m\u001b[0m\u001b[0m\n\u001b[0m\u001b[1;32m    287\u001b[0m         \u001b[0;32mif\u001b[0m \u001b[0mlen\u001b[0m\u001b[0;34m(\u001b[0m\u001b[0mline\u001b[0m\u001b[0;34m)\u001b[0m \u001b[0;34m>\u001b[0m \u001b[0m_MAXLINE\u001b[0m\u001b[0;34m:\u001b[0m\u001b[0;34m\u001b[0m\u001b[0;34m\u001b[0m\u001b[0m\n\u001b[1;32m    288\u001b[0m             \u001b[0;32mraise\u001b[0m \u001b[0mLineTooLong\u001b[0m\u001b[0;34m(\u001b[0m\u001b[0;34m\"status line\"\u001b[0m\u001b[0;34m)\u001b[0m\u001b[0;34m\u001b[0m\u001b[0;34m\u001b[0m\u001b[0m\n",
            "\u001b[0;32m/usr/lib/python3.11/socket.py\u001b[0m in \u001b[0;36mreadinto\u001b[0;34m(self, b)\u001b[0m\n\u001b[1;32m    716\u001b[0m         \u001b[0;32mwhile\u001b[0m \u001b[0;32mTrue\u001b[0m\u001b[0;34m:\u001b[0m\u001b[0;34m\u001b[0m\u001b[0;34m\u001b[0m\u001b[0m\n\u001b[1;32m    717\u001b[0m             \u001b[0;32mtry\u001b[0m\u001b[0;34m:\u001b[0m\u001b[0;34m\u001b[0m\u001b[0;34m\u001b[0m\u001b[0m\n\u001b[0;32m--> 718\u001b[0;31m                 \u001b[0;32mreturn\u001b[0m \u001b[0mself\u001b[0m\u001b[0;34m.\u001b[0m\u001b[0m_sock\u001b[0m\u001b[0;34m.\u001b[0m\u001b[0mrecv_into\u001b[0m\u001b[0;34m(\u001b[0m\u001b[0mb\u001b[0m\u001b[0;34m)\u001b[0m\u001b[0;34m\u001b[0m\u001b[0;34m\u001b[0m\u001b[0m\n\u001b[0m\u001b[1;32m    719\u001b[0m             \u001b[0;32mexcept\u001b[0m \u001b[0mtimeout\u001b[0m\u001b[0;34m:\u001b[0m\u001b[0;34m\u001b[0m\u001b[0;34m\u001b[0m\u001b[0m\n\u001b[1;32m    720\u001b[0m                 \u001b[0mself\u001b[0m\u001b[0;34m.\u001b[0m\u001b[0m_timeout_occurred\u001b[0m \u001b[0;34m=\u001b[0m \u001b[0;32mTrue\u001b[0m\u001b[0;34m\u001b[0m\u001b[0;34m\u001b[0m\u001b[0m\n",
            "\u001b[0;32m/usr/lib/python3.11/ssl.py\u001b[0m in \u001b[0;36mrecv_into\u001b[0;34m(self, buffer, nbytes, flags)\u001b[0m\n\u001b[1;32m   1312\u001b[0m                   \u001b[0;34m\"non-zero flags not allowed in calls to recv_into() on %s\"\u001b[0m \u001b[0;34m%\u001b[0m\u001b[0;34m\u001b[0m\u001b[0;34m\u001b[0m\u001b[0m\n\u001b[1;32m   1313\u001b[0m                   self.__class__)\n\u001b[0;32m-> 1314\u001b[0;31m             \u001b[0;32mreturn\u001b[0m \u001b[0mself\u001b[0m\u001b[0;34m.\u001b[0m\u001b[0mread\u001b[0m\u001b[0;34m(\u001b[0m\u001b[0mnbytes\u001b[0m\u001b[0;34m,\u001b[0m \u001b[0mbuffer\u001b[0m\u001b[0;34m)\u001b[0m\u001b[0;34m\u001b[0m\u001b[0;34m\u001b[0m\u001b[0m\n\u001b[0m\u001b[1;32m   1315\u001b[0m         \u001b[0;32melse\u001b[0m\u001b[0;34m:\u001b[0m\u001b[0;34m\u001b[0m\u001b[0;34m\u001b[0m\u001b[0m\n\u001b[1;32m   1316\u001b[0m             \u001b[0;32mreturn\u001b[0m \u001b[0msuper\u001b[0m\u001b[0;34m(\u001b[0m\u001b[0;34m)\u001b[0m\u001b[0;34m.\u001b[0m\u001b[0mrecv_into\u001b[0m\u001b[0;34m(\u001b[0m\u001b[0mbuffer\u001b[0m\u001b[0;34m,\u001b[0m \u001b[0mnbytes\u001b[0m\u001b[0;34m,\u001b[0m \u001b[0mflags\u001b[0m\u001b[0;34m)\u001b[0m\u001b[0;34m\u001b[0m\u001b[0;34m\u001b[0m\u001b[0m\n",
            "\u001b[0;32m/usr/lib/python3.11/ssl.py\u001b[0m in \u001b[0;36mread\u001b[0;34m(self, len, buffer)\u001b[0m\n\u001b[1;32m   1164\u001b[0m         \u001b[0;32mtry\u001b[0m\u001b[0;34m:\u001b[0m\u001b[0;34m\u001b[0m\u001b[0;34m\u001b[0m\u001b[0m\n\u001b[1;32m   1165\u001b[0m             \u001b[0;32mif\u001b[0m \u001b[0mbuffer\u001b[0m \u001b[0;32mis\u001b[0m \u001b[0;32mnot\u001b[0m \u001b[0;32mNone\u001b[0m\u001b[0;34m:\u001b[0m\u001b[0;34m\u001b[0m\u001b[0;34m\u001b[0m\u001b[0m\n\u001b[0;32m-> 1166\u001b[0;31m                 \u001b[0;32mreturn\u001b[0m \u001b[0mself\u001b[0m\u001b[0;34m.\u001b[0m\u001b[0m_sslobj\u001b[0m\u001b[0;34m.\u001b[0m\u001b[0mread\u001b[0m\u001b[0;34m(\u001b[0m\u001b[0mlen\u001b[0m\u001b[0;34m,\u001b[0m \u001b[0mbuffer\u001b[0m\u001b[0;34m)\u001b[0m\u001b[0;34m\u001b[0m\u001b[0;34m\u001b[0m\u001b[0m\n\u001b[0m\u001b[1;32m   1167\u001b[0m             \u001b[0;32melse\u001b[0m\u001b[0;34m:\u001b[0m\u001b[0;34m\u001b[0m\u001b[0;34m\u001b[0m\u001b[0m\n\u001b[1;32m   1168\u001b[0m                 \u001b[0;32mreturn\u001b[0m \u001b[0mself\u001b[0m\u001b[0;34m.\u001b[0m\u001b[0m_sslobj\u001b[0m\u001b[0;34m.\u001b[0m\u001b[0mread\u001b[0m\u001b[0;34m(\u001b[0m\u001b[0mlen\u001b[0m\u001b[0;34m)\u001b[0m\u001b[0;34m\u001b[0m\u001b[0;34m\u001b[0m\u001b[0m\n",
            "\u001b[0;31mKeyboardInterrupt\u001b[0m: "
          ]
        }
      ]
    },
    {
      "cell_type": "markdown",
      "source": [
        "### **WCZYTYWANIE MODELU CLIP**\n"
      ],
      "metadata": {
        "id": "6lggAZSIUq7A"
      }
    },
    {
      "cell_type": "code",
      "source": [
        "from transformers import CLIPProcessor, CLIPModel\n",
        "import torch\n",
        "\n",
        "clip_model = CLIPModel.from_pretrained(\"openai/clip-vit-base-patch32\")\n",
        "clip_processor = CLIPProcessor.from_pretrained(\"openai/clip-vit-base-patch32\")\n",
        "predicted_labels_clip = []\n",
        "\n",
        "def predict_clip(image, labels):\n",
        "    inputs = clip_processor(text=labels, images=image, return_tensors=\"pt\", padding=True)\n",
        "    outputs = clip_model(**inputs)\n",
        "    logits_per_image = outputs.logits_per_image\n",
        "    probs = logits_per_image.softmax(dim=1).cpu().detach().numpy()\n",
        "    return probs"
      ],
      "metadata": {
        "id": "fVYecxW7Rtgq"
      },
      "execution_count": null,
      "outputs": []
    },
    {
      "cell_type": "markdown",
      "source": [
        "### **WCZYTYWANIE MODELU \"top_15_anime_characters_image_detection\"**\n"
      ],
      "metadata": {
        "id": "1Fumes_8UxZv"
      }
    },
    {
      "cell_type": "code",
      "source": [
        "from transformers import AutoProcessor, AutoModelForImageClassification\n",
        "from PIL import Image\n",
        "import torch\n",
        "\n",
        "model_name = \"dima806/top_15_anime_characters_image_detection\"\n",
        "processor = AutoProcessor.from_pretrained(model_name)\n",
        "model = AutoModelForImageClassification.from_pretrained(model_name)\n",
        "\n",
        "def predict_anime_character(image_path):\n",
        "    image = Image.open(image_path)\n",
        "\n",
        "    if image.mode != 'RGB':\n",
        "        image = image.convert('RGB')\n",
        "\n",
        "    inputs = processor(images=image, return_tensors=\"pt\")\n",
        "\n",
        "    with torch.no_grad():\n",
        "        outputs = model(**inputs)\n",
        "        logits = outputs.logits  # wyjściowe logity - szanse na każdą klasę\n",
        "        predicted_class_idx = logits.argmax(-1).item()  # klasa z najwyższym prawdopodobieństwem\n",
        "\n",
        "    print(f\"predykcja: {model.config.id2label[predicted_class_idx]}\")"
      ],
      "metadata": {
        "id": "NCqBK0-VRvzC"
      },
      "execution_count": null,
      "outputs": []
    },
    {
      "cell_type": "code",
      "source": [
        "import os\n",
        "import random\n",
        "from PIL import Image\n",
        "\n",
        "def normalize_label(label):\n",
        "    return label.replace(\"_\", \" \")\n",
        "\n",
        "def get_random_images_from_folders(base_dir, num_images=50):\n",
        "    folders = [folder for folder in os.listdir(base_dir) if os.path.isdir(os.path.join(base_dir, folder))]\n",
        "    all_images_with_labels = []\n",
        "\n",
        "    for folder in folders:\n",
        "        folder_path = os.path.join(base_dir, folder)\n",
        "        images = [os.path.join(folder_path, img) for img in os.listdir(folder_path) if img.lower().endswith(('.png', '.jpg', '.jpeg'))]\n",
        "\n",
        "        all_images_with_labels.extend([(img, folder) for img in images])\n",
        "\n",
        "    selected_images_with_labels = random.sample(all_images_with_labels, num_images)\n",
        "    return selected_images_with_labels\n",
        "\n",
        "base_directory = '/content/safebooru_images'\n",
        "\n",
        "random_images_with_labels = get_random_images_from_folders(base_directory, 50)\n",
        "\n",
        "# Podział na listy: ścieżki obrazów i etykiety\n",
        "random_images = [item[0] for item in random_images_with_labels]\n",
        "true_labels = [normalize_label(img.split('/')[-2]) for img in random_images]  # Normalizowanie etykiet prawdziwych\n",
        "\n",
        "for img_path, label in zip(random_images[:10], true_labels[:10]):\n",
        "    img = Image.open(img_path)\n",
        "    print(f\"Obraz: {img_path}, Etykieta: {label}\")\n",
        "    img.show()"
      ],
      "metadata": {
        "colab": {
          "base_uri": "https://localhost:8080/"
        },
        "id": "Xx877Bz_RyVa",
        "outputId": "947a0313-4a54-4e37-aefd-2afe48b71e5b"
      },
      "execution_count": null,
      "outputs": [
        {
          "output_type": "stream",
          "name": "stdout",
          "text": [
            "Obraz: /content/safebooru_images/Vegeta/Vegeta_7.jpg, Etykieta: Vegeta\n",
            "Obraz: /content/safebooru_images/Lelouch_Lamperouge/Lelouch_Lamperouge_31.jpg, Etykieta: Lelouch Lamperouge\n",
            "Obraz: /content/safebooru_images/Eren_Jaeger/Eren_Jaeger_42.jpg, Etykieta: Eren Jaeger\n",
            "Obraz: /content/safebooru_images/Vegeta/Vegeta_29.jpg, Etykieta: Vegeta\n",
            "Obraz: /content/safebooru_images/Naruto/Naruto_10.jpg, Etykieta: Naruto\n",
            "Obraz: /content/safebooru_images/Vegeta/Vegeta_24.jpg, Etykieta: Vegeta\n",
            "Obraz: /content/safebooru_images/Lelouch_Lamperouge/Lelouch_Lamperouge_2.jpg, Etykieta: Lelouch Lamperouge\n",
            "Obraz: /content/safebooru_images/Eren_Jaeger/Eren_Jaeger_39.jpg, Etykieta: Eren Jaeger\n",
            "Obraz: /content/safebooru_images/Vegeta/Vegeta_17.jpg, Etykieta: Vegeta\n",
            "Obraz: /content/safebooru_images/Vegeta/Vegeta_35.jpg, Etykieta: Vegeta\n"
          ]
        }
      ]
    },
    {
      "cell_type": "markdown",
      "source": [
        "### **TEST MODELU CLIP**"
      ],
      "metadata": {
        "id": "tzMa3o3oVL2_"
      }
    },
    {
      "cell_type": "code",
      "source": [
        "print(f\"Liczba prawdziwych etykiet: {len(true_labels)}\")\n",
        "print(f\"Liczba przewidywanych etykiet: {len(predicted_labels_clip)}\")\n",
        "print(f\"Liczba przewidywanych etykiet: {len(random_images)}\")"
      ],
      "metadata": {
        "colab": {
          "base_uri": "https://localhost:8080/"
        },
        "id": "V888zbbAR2tK",
        "outputId": "17895a30-e279-4794-8d06-611a94c7b868"
      },
      "execution_count": null,
      "outputs": [
        {
          "output_type": "stream",
          "name": "stdout",
          "text": [
            "Liczba prawdziwych etykiet: 50\n",
            "Liczba przewidywanych etykiet: 0\n",
            "Liczba przewidywanych etykiet: 50\n"
          ]
        }
      ]
    },
    {
      "cell_type": "code",
      "source": [
        "import numpy as np\n",
        "from sklearn.metrics import accuracy_score, precision_score, f1_score\n",
        "from PIL import Image\n",
        "\n",
        "labels = [\n",
        "    \"Lelouch Lamperouge\", \"Eren Yeager\", \"Vegeta\", \"Killua\", \"Naruto\"\n",
        "]\n",
        "\n",
        "predicted_labels_clip = []\n",
        "for img_path in random_images:\n",
        "    img = Image.open(img_path)\n",
        "\n",
        "    probs = predict_clip(img, labels)\n",
        "    predicted_class_idx = np.argmax(probs)  # Indeks klasy z najwyższym prawdopodobieństwem\n",
        "    predicted_label = labels[predicted_class_idx]  # Tekstowa etykieta\n",
        "    predicted_labels_clip.append(predicted_label)\n",
        "\n",
        "# Metryki\n",
        "accuracy_clip = accuracy_score(true_labels, predicted_labels_clip)\n",
        "precision_clip = precision_score(true_labels, predicted_labels_clip, average='weighted', zero_division=0)\n",
        "f1_clip = f1_score(true_labels, predicted_labels_clip, average='weighted', zero_division=0)\n",
        "\n",
        "# Przykłady działania\n",
        "for img_path, true_label, predicted_label in zip(random_images, true_labels, predicted_labels_clip):\n",
        "    print(f\"Obraz: {img_path}\")\n",
        "    print(f\"True label: {true_label}, Predicted label: {predicted_label}\")\n",
        "\n",
        "print(f\"Accuracy: {accuracy_clip:.4f}\")\n",
        "print(f\"Precision: {precision_clip:.4f}\")\n",
        "print(f\"F1 Score: {f1_clip:.4f}\")"
      ],
      "metadata": {
        "colab": {
          "base_uri": "https://localhost:8080/"
        },
        "id": "nF2tR-AuR4fa",
        "outputId": "7f94fbfd-118f-4226-9582-3b95469bc9c5"
      },
      "execution_count": null,
      "outputs": [
        {
          "output_type": "stream",
          "name": "stdout",
          "text": [
            "Obraz: /content/safebooru_images/Vegeta/Vegeta_7.jpg\n",
            "True label: Vegeta, Predicted label: Vegeta\n",
            "Obraz: /content/safebooru_images/Lelouch_Lamperouge/Lelouch_Lamperouge_31.jpg\n",
            "True label: Lelouch Lamperouge, Predicted label: Lelouch Lamperouge\n",
            "Obraz: /content/safebooru_images/Eren_Jaeger/Eren_Jaeger_42.jpg\n",
            "True label: Eren Jaeger, Predicted label: Eren Yeager\n",
            "Obraz: /content/safebooru_images/Vegeta/Vegeta_29.jpg\n",
            "True label: Vegeta, Predicted label: Vegeta\n",
            "Obraz: /content/safebooru_images/Naruto/Naruto_10.jpg\n",
            "True label: Naruto, Predicted label: Naruto\n",
            "Obraz: /content/safebooru_images/Vegeta/Vegeta_24.jpg\n",
            "True label: Vegeta, Predicted label: Vegeta\n",
            "Obraz: /content/safebooru_images/Lelouch_Lamperouge/Lelouch_Lamperouge_2.jpg\n",
            "True label: Lelouch Lamperouge, Predicted label: Lelouch Lamperouge\n",
            "Obraz: /content/safebooru_images/Eren_Jaeger/Eren_Jaeger_39.jpg\n",
            "True label: Eren Jaeger, Predicted label: Eren Yeager\n",
            "Obraz: /content/safebooru_images/Vegeta/Vegeta_17.jpg\n",
            "True label: Vegeta, Predicted label: Vegeta\n",
            "Obraz: /content/safebooru_images/Vegeta/Vegeta_35.jpg\n",
            "True label: Vegeta, Predicted label: Killua\n",
            "Obraz: /content/safebooru_images/Eren_Jaeger/Eren_Jaeger_2.jpg\n",
            "True label: Eren Jaeger, Predicted label: Eren Yeager\n",
            "Obraz: /content/safebooru_images/Vegeta/Vegeta_50.jpg\n",
            "True label: Vegeta, Predicted label: Vegeta\n",
            "Obraz: /content/safebooru_images/Naruto/Naruto_34.jpg\n",
            "True label: Naruto, Predicted label: Naruto\n",
            "Obraz: /content/safebooru_images/Eren_Jaeger/Eren_Jaeger_6.jpg\n",
            "True label: Eren Jaeger, Predicted label: Lelouch Lamperouge\n",
            "Obraz: /content/safebooru_images/Lelouch_Lamperouge/Lelouch_Lamperouge_29.jpg\n",
            "True label: Lelouch Lamperouge, Predicted label: Lelouch Lamperouge\n",
            "Obraz: /content/safebooru_images/Lelouch_Lamperouge/Lelouch_Lamperouge_28.jpg\n",
            "True label: Lelouch Lamperouge, Predicted label: Lelouch Lamperouge\n",
            "Obraz: /content/safebooru_images/Lelouch_Lamperouge/Lelouch_Lamperouge_10.jpg\n",
            "True label: Lelouch Lamperouge, Predicted label: Lelouch Lamperouge\n",
            "Obraz: /content/safebooru_images/Vegeta/Vegeta_43.jpg\n",
            "True label: Vegeta, Predicted label: Vegeta\n",
            "Obraz: /content/safebooru_images/Naruto/Naruto_49.jpg\n",
            "True label: Naruto, Predicted label: Naruto\n",
            "Obraz: /content/safebooru_images/Vegeta/Vegeta_10.jpg\n",
            "True label: Vegeta, Predicted label: Vegeta\n",
            "Obraz: /content/safebooru_images/Eren_Jaeger/Eren_Jaeger_9.jpg\n",
            "True label: Eren Jaeger, Predicted label: Eren Yeager\n",
            "Obraz: /content/safebooru_images/Vegeta/Vegeta_22.jpg\n",
            "True label: Vegeta, Predicted label: Vegeta\n",
            "Obraz: /content/safebooru_images/Eren_Jaeger/Eren_Jaeger_13.jpg\n",
            "True label: Eren Jaeger, Predicted label: Eren Yeager\n",
            "Obraz: /content/safebooru_images/Eren_Jaeger/Eren_Jaeger_3.jpg\n",
            "True label: Eren Jaeger, Predicted label: Eren Yeager\n",
            "Obraz: /content/safebooru_images/Lelouch_Lamperouge/Lelouch_Lamperouge_40.jpg\n",
            "True label: Lelouch Lamperouge, Predicted label: Lelouch Lamperouge\n",
            "Obraz: /content/safebooru_images/Lelouch_Lamperouge/Lelouch_Lamperouge_41.jpg\n",
            "True label: Lelouch Lamperouge, Predicted label: Lelouch Lamperouge\n",
            "Obraz: /content/safebooru_images/Naruto/Naruto_20.jpg\n",
            "True label: Naruto, Predicted label: Naruto\n",
            "Obraz: /content/safebooru_images/Vegeta/Vegeta_41.jpg\n",
            "True label: Vegeta, Predicted label: Vegeta\n",
            "Obraz: /content/safebooru_images/Naruto/Naruto_7.jpg\n",
            "True label: Naruto, Predicted label: Killua\n",
            "Obraz: /content/safebooru_images/Lelouch_Lamperouge/Lelouch_Lamperouge_24.jpg\n",
            "True label: Lelouch Lamperouge, Predicted label: Lelouch Lamperouge\n",
            "Obraz: /content/safebooru_images/Lelouch_Lamperouge/Lelouch_Lamperouge_32.jpg\n",
            "True label: Lelouch Lamperouge, Predicted label: Lelouch Lamperouge\n",
            "Obraz: /content/safebooru_images/Lelouch_Lamperouge/Lelouch_Lamperouge_49.jpg\n",
            "True label: Lelouch Lamperouge, Predicted label: Lelouch Lamperouge\n",
            "Obraz: /content/safebooru_images/Naruto/Naruto_42.jpg\n",
            "True label: Naruto, Predicted label: Naruto\n",
            "Obraz: /content/safebooru_images/Eren_Jaeger/Eren_Jaeger_40.jpg\n",
            "True label: Eren Jaeger, Predicted label: Eren Yeager\n",
            "Obraz: /content/safebooru_images/Vegeta/Vegeta_37.jpg\n",
            "True label: Vegeta, Predicted label: Naruto\n",
            "Obraz: /content/safebooru_images/Naruto/Naruto_2.jpg\n",
            "True label: Naruto, Predicted label: Naruto\n",
            "Obraz: /content/safebooru_images/Naruto/Naruto_30.jpg\n",
            "True label: Naruto, Predicted label: Naruto\n",
            "Obraz: /content/safebooru_images/Lelouch_Lamperouge/Lelouch_Lamperouge_42.jpg\n",
            "True label: Lelouch Lamperouge, Predicted label: Lelouch Lamperouge\n",
            "Obraz: /content/safebooru_images/Eren_Jaeger/Eren_Jaeger_8.jpg\n",
            "True label: Eren Jaeger, Predicted label: Eren Yeager\n",
            "Obraz: /content/safebooru_images/Lelouch_Lamperouge/Lelouch_Lamperouge_16.jpg\n",
            "True label: Lelouch Lamperouge, Predicted label: Lelouch Lamperouge\n",
            "Obraz: /content/safebooru_images/Lelouch_Lamperouge/Lelouch_Lamperouge_17.jpg\n",
            "True label: Lelouch Lamperouge, Predicted label: Lelouch Lamperouge\n",
            "Obraz: /content/safebooru_images/Eren_Jaeger/Eren_Jaeger_46.jpg\n",
            "True label: Eren Jaeger, Predicted label: Eren Yeager\n",
            "Obraz: /content/safebooru_images/Naruto/Naruto_33.jpg\n",
            "True label: Naruto, Predicted label: Naruto\n",
            "Obraz: /content/safebooru_images/Eren_Jaeger/Eren_Jaeger_34.jpg\n",
            "True label: Eren Jaeger, Predicted label: Eren Yeager\n",
            "Obraz: /content/safebooru_images/Eren_Jaeger/Eren_Jaeger_28.jpg\n",
            "True label: Eren Jaeger, Predicted label: Eren Yeager\n",
            "Obraz: /content/safebooru_images/Eren_Jaeger/Eren_Jaeger_16.jpg\n",
            "True label: Eren Jaeger, Predicted label: Eren Yeager\n",
            "Obraz: /content/safebooru_images/Naruto/Naruto_17.jpg\n",
            "True label: Naruto, Predicted label: Naruto\n",
            "Obraz: /content/safebooru_images/Vegeta/Vegeta_46.jpg\n",
            "True label: Vegeta, Predicted label: Vegeta\n",
            "Obraz: /content/safebooru_images/Naruto/Naruto_29.jpg\n",
            "True label: Naruto, Predicted label: Naruto\n",
            "Obraz: /content/safebooru_images/Naruto/Naruto_21.jpg\n",
            "True label: Naruto, Predicted label: Naruto\n",
            "Accuracy: 0.6800\n",
            "Precision: 0.7014\n",
            "F1 Score: 0.6886\n"
          ]
        }
      ]
    },
    {
      "cell_type": "markdown",
      "source": [
        "### **TEST MODELU \"top_15_anime_characters_image_detection\"**"
      ],
      "metadata": {
        "id": "bxOILh2zVSo_"
      }
    },
    {
      "cell_type": "code",
      "source": [
        "from sklearn.metrics import accuracy_score, precision_score, f1_score\n",
        "import numpy as np\n",
        "from PIL import Image\n",
        "\n",
        "true_labels = [normalize_label(img.split('/')[-2]) for img in random_images]\n",
        "\n",
        "predicted_labels_anime = []\n",
        "\n",
        "# Iterowanie przez obrazy\n",
        "for img_path in random_images:\n",
        "    img = Image.open(img_path).convert(\"RGB\")\n",
        "\n",
        "    inputs = processor(images=img, return_tensors=\"pt\")\n",
        "    outputs = model(**inputs)\n",
        "    logits = outputs.logits\n",
        "    predicted_class_idx = logits.argmax(-1).item()  # Klasa z najwyższym prawdopodobieństwem\n",
        "    predicted_label = model.config.id2label[predicted_class_idx]\n",
        "\n",
        "    normalized_predicted_label = normalize_label(predicted_label)\n",
        "    predicted_labels_anime.append(normalized_predicted_label)\n",
        "\n",
        "# Metryki\n",
        "accuracy_anime = accuracy_score(true_labels, predicted_labels_anime)\n",
        "precision_anime = precision_score(true_labels, predicted_labels_anime, average='weighted', zero_division=0)\n",
        "f1_anime = f1_score(true_labels, predicted_labels_anime, average='weighted', zero_division=0)\n",
        "\n",
        "# Przykłady działania\n",
        "for img_path, true_label, predicted_label in zip(random_images, true_labels, predicted_labels_anime):\n",
        "    print(f\"Obraz: {img_path}\")\n",
        "    print(f\"True label: {true_label}, Predicted label: {predicted_label}\")\n",
        "\n",
        "print(f\"Accuracy: {accuracy_anime:.4f}\")\n",
        "print(f\"Precision: {precision_anime:.4f}\")\n",
        "print(f\"F1 Score: {f1_anime:.4f}\")"
      ],
      "metadata": {
        "colab": {
          "base_uri": "https://localhost:8080/"
        },
        "id": "rtWeaVNRR6z6",
        "outputId": "d5b8c0b8-99ba-4d0b-c3d4-d093ac748b39"
      },
      "execution_count": null,
      "outputs": [
        {
          "output_type": "stream",
          "name": "stdout",
          "text": [
            "Obraz: /content/safebooru_images/Vegeta/Vegeta_7.jpg\n",
            "True label: Vegeta, Predicted label: Vegeta\n",
            "Obraz: /content/safebooru_images/Lelouch_Lamperouge/Lelouch_Lamperouge_31.jpg\n",
            "True label: Lelouch Lamperouge, Predicted label: Sasuke\n",
            "Obraz: /content/safebooru_images/Eren_Jaeger/Eren_Jaeger_42.jpg\n",
            "True label: Eren Jaeger, Predicted label: Zoro\n",
            "Obraz: /content/safebooru_images/Vegeta/Vegeta_29.jpg\n",
            "True label: Vegeta, Predicted label: Vegeta\n",
            "Obraz: /content/safebooru_images/Naruto/Naruto_10.jpg\n",
            "True label: Naruto, Predicted label: Sasuke\n",
            "Obraz: /content/safebooru_images/Vegeta/Vegeta_24.jpg\n",
            "True label: Vegeta, Predicted label: Vegeta\n",
            "Obraz: /content/safebooru_images/Lelouch_Lamperouge/Lelouch_Lamperouge_2.jpg\n",
            "True label: Lelouch Lamperouge, Predicted label: Lelouch Lamperouge\n",
            "Obraz: /content/safebooru_images/Eren_Jaeger/Eren_Jaeger_39.jpg\n",
            "True label: Eren Jaeger, Predicted label: Eren Yeager\n",
            "Obraz: /content/safebooru_images/Vegeta/Vegeta_17.jpg\n",
            "True label: Vegeta, Predicted label: Vegeta\n",
            "Obraz: /content/safebooru_images/Vegeta/Vegeta_35.jpg\n",
            "True label: Vegeta, Predicted label: Gon\n",
            "Obraz: /content/safebooru_images/Eren_Jaeger/Eren_Jaeger_2.jpg\n",
            "True label: Eren Jaeger, Predicted label: Elric Edward\n",
            "Obraz: /content/safebooru_images/Vegeta/Vegeta_50.jpg\n",
            "True label: Vegeta, Predicted label: Sasuke\n",
            "Obraz: /content/safebooru_images/Naruto/Naruto_34.jpg\n",
            "True label: Naruto, Predicted label: Naruto\n",
            "Obraz: /content/safebooru_images/Eren_Jaeger/Eren_Jaeger_6.jpg\n",
            "True label: Eren Jaeger, Predicted label: Light Yagami\n",
            "Obraz: /content/safebooru_images/Lelouch_Lamperouge/Lelouch_Lamperouge_29.jpg\n",
            "True label: Lelouch Lamperouge, Predicted label: Vegeta\n",
            "Obraz: /content/safebooru_images/Lelouch_Lamperouge/Lelouch_Lamperouge_28.jpg\n",
            "True label: Lelouch Lamperouge, Predicted label: Vegeta\n",
            "Obraz: /content/safebooru_images/Lelouch_Lamperouge/Lelouch_Lamperouge_10.jpg\n",
            "True label: Lelouch Lamperouge, Predicted label: Lelouch Lamperouge\n",
            "Obraz: /content/safebooru_images/Vegeta/Vegeta_43.jpg\n",
            "True label: Vegeta, Predicted label: Goku\n",
            "Obraz: /content/safebooru_images/Naruto/Naruto_49.jpg\n",
            "True label: Naruto, Predicted label: Natsu Dragneel\n",
            "Obraz: /content/safebooru_images/Vegeta/Vegeta_10.jpg\n",
            "True label: Vegeta, Predicted label: Eren Yeager\n",
            "Obraz: /content/safebooru_images/Eren_Jaeger/Eren_Jaeger_9.jpg\n",
            "True label: Eren Jaeger, Predicted label: Elric Edward\n",
            "Obraz: /content/safebooru_images/Vegeta/Vegeta_22.jpg\n",
            "True label: Vegeta, Predicted label: Vegeta\n",
            "Obraz: /content/safebooru_images/Eren_Jaeger/Eren_Jaeger_13.jpg\n",
            "True label: Eren Jaeger, Predicted label: Eren Yeager\n",
            "Obraz: /content/safebooru_images/Eren_Jaeger/Eren_Jaeger_3.jpg\n",
            "True label: Eren Jaeger, Predicted label: Eren Yeager\n",
            "Obraz: /content/safebooru_images/Lelouch_Lamperouge/Lelouch_Lamperouge_40.jpg\n",
            "True label: Lelouch Lamperouge, Predicted label: Lelouch Lamperouge\n",
            "Obraz: /content/safebooru_images/Lelouch_Lamperouge/Lelouch_Lamperouge_41.jpg\n",
            "True label: Lelouch Lamperouge, Predicted label: Lelouch Lamperouge\n",
            "Obraz: /content/safebooru_images/Naruto/Naruto_20.jpg\n",
            "True label: Naruto, Predicted label: Naruto\n",
            "Obraz: /content/safebooru_images/Vegeta/Vegeta_41.jpg\n",
            "True label: Vegeta, Predicted label: Vegeta\n",
            "Obraz: /content/safebooru_images/Naruto/Naruto_7.jpg\n",
            "True label: Naruto, Predicted label: Sasuke\n",
            "Obraz: /content/safebooru_images/Lelouch_Lamperouge/Lelouch_Lamperouge_24.jpg\n",
            "True label: Lelouch Lamperouge, Predicted label: Lelouch Lamperouge\n",
            "Obraz: /content/safebooru_images/Lelouch_Lamperouge/Lelouch_Lamperouge_32.jpg\n",
            "True label: Lelouch Lamperouge, Predicted label: Lelouch Lamperouge\n",
            "Obraz: /content/safebooru_images/Lelouch_Lamperouge/Lelouch_Lamperouge_49.jpg\n",
            "True label: Lelouch Lamperouge, Predicted label: Lelouch Lamperouge\n",
            "Obraz: /content/safebooru_images/Naruto/Naruto_42.jpg\n",
            "True label: Naruto, Predicted label: Gon\n",
            "Obraz: /content/safebooru_images/Eren_Jaeger/Eren_Jaeger_40.jpg\n",
            "True label: Eren Jaeger, Predicted label: Luffy\n",
            "Obraz: /content/safebooru_images/Vegeta/Vegeta_37.jpg\n",
            "True label: Vegeta, Predicted label: Sasuke\n",
            "Obraz: /content/safebooru_images/Naruto/Naruto_2.jpg\n",
            "True label: Naruto, Predicted label: Luffy\n",
            "Obraz: /content/safebooru_images/Naruto/Naruto_30.jpg\n",
            "True label: Naruto, Predicted label: Sasuke\n",
            "Obraz: /content/safebooru_images/Lelouch_Lamperouge/Lelouch_Lamperouge_42.jpg\n",
            "True label: Lelouch Lamperouge, Predicted label: Zoro\n",
            "Obraz: /content/safebooru_images/Eren_Jaeger/Eren_Jaeger_8.jpg\n",
            "True label: Eren Jaeger, Predicted label: Light Yagami\n",
            "Obraz: /content/safebooru_images/Lelouch_Lamperouge/Lelouch_Lamperouge_16.jpg\n",
            "True label: Lelouch Lamperouge, Predicted label: Sasuke\n",
            "Obraz: /content/safebooru_images/Lelouch_Lamperouge/Lelouch_Lamperouge_17.jpg\n",
            "True label: Lelouch Lamperouge, Predicted label: Lelouch Lamperouge\n",
            "Obraz: /content/safebooru_images/Eren_Jaeger/Eren_Jaeger_46.jpg\n",
            "True label: Eren Jaeger, Predicted label: Eren Yeager\n",
            "Obraz: /content/safebooru_images/Naruto/Naruto_33.jpg\n",
            "True label: Naruto, Predicted label: Sasuke\n",
            "Obraz: /content/safebooru_images/Eren_Jaeger/Eren_Jaeger_34.jpg\n",
            "True label: Eren Jaeger, Predicted label: Lelouch Lamperouge\n",
            "Obraz: /content/safebooru_images/Eren_Jaeger/Eren_Jaeger_28.jpg\n",
            "True label: Eren Jaeger, Predicted label: Eren Yeager\n",
            "Obraz: /content/safebooru_images/Eren_Jaeger/Eren_Jaeger_16.jpg\n",
            "True label: Eren Jaeger, Predicted label: Eren Yeager\n",
            "Obraz: /content/safebooru_images/Naruto/Naruto_17.jpg\n",
            "True label: Naruto, Predicted label: Sasuke\n",
            "Obraz: /content/safebooru_images/Vegeta/Vegeta_46.jpg\n",
            "True label: Vegeta, Predicted label: Vegeta\n",
            "Obraz: /content/safebooru_images/Naruto/Naruto_29.jpg\n",
            "True label: Naruto, Predicted label: Sasuke\n",
            "Obraz: /content/safebooru_images/Naruto/Naruto_21.jpg\n",
            "True label: Naruto, Predicted label: Natsu Dragneel\n",
            "Accuracy: 0.3400\n",
            "Precision: 0.6578\n",
            "F1 Score: 0.4177\n"
          ]
        }
      ]
    },
    {
      "cell_type": "markdown",
      "source": [
        "### **IMPLEMENTACJA I TEST \"AnimeCharacterClassifierMark1\"**"
      ],
      "metadata": {
        "id": "7MG4i7LsVZ1H"
      }
    },
    {
      "cell_type": "code",
      "source": [
        "from transformers import AutoProcessor, AutoModelForImageClassification\n",
        "import torch\n",
        "from sklearn.metrics import accuracy_score, precision_score, f1_score\n",
        "from PIL import Image\n",
        "import Levenshtein\n",
        "\n",
        "allowed_labels = [\n",
        "    \"Lelouch Lamperouge\", \"Eren Yeager\", \"Vegeta\", \"Killua\", \"Naruto\"\n",
        "]\n",
        "\n",
        "model_anime = \"Abhiram4/AnimeCharacterClassifierMark1\"\n",
        "processor = AutoProcessor.from_pretrained(model_anime)\n",
        "model = AutoModelForImageClassification.from_pretrained(model_anime)\n",
        "\n",
        "def predict_anime_character2(image_path):\n",
        "    image = Image.open(image_path)\n",
        "\n",
        "    if image.mode != 'RGB':\n",
        "        image = image.convert('RGB')\n",
        "\n",
        "    inputs = processor(images=image, return_tensors=\"pt\")\n",
        "\n",
        "    # Przewidywanie klasy\n",
        "    with torch.no_grad():\n",
        "        outputs = model(**inputs)\n",
        "        logits = outputs.logits\n",
        "        predicted_class_idx = logits.argmax(-1).item()  # klasa z najwyższym prawdopodobieństwem\n",
        "\n",
        "    predicted_label = model.config.id2label[predicted_class_idx]\n",
        "\n",
        "    if normalize_label(predicted_label) in allowed_labels:\n",
        "        return normalize_label(predicted_label)\n",
        "    else:\n",
        "        # Szukanie najbliższej etykiety - Levenshtein distance\n",
        "        closest_label = min(allowed_labels, key=lambda label: Levenshtein.distance(normalize_label(predicted_label), label))\n",
        "        return closest_label\n",
        "\n",
        "predicted_labels_anime_2 = []\n",
        "\n",
        "for img_path in random_images:\n",
        "    predicted_label = predict_anime_character2(img_path)\n",
        "    predicted_labels_anime_2.append(predicted_label)\n",
        "\n",
        "# Metryki\n",
        "accuracy_anime_2 = accuracy_score(true_labels, predicted_labels_anime_2)\n",
        "precision_anime_2 = precision_score(true_labels, predicted_labels_anime_2, average='weighted', zero_division=0)\n",
        "f1_anime_2 = f1_score(true_labels, predicted_labels_anime_2, average='weighted', zero_division=0)\n",
        "\n",
        "# Przykłady działania\n",
        "for img_path, true_label, predicted_label in zip(random_images, true_labels, predicted_labels_anime_2):\n",
        "    print(f\"Obraz: {img_path}\")\n",
        "    print(f\"True label: {true_label}, Predicted label: {predicted_label}\")\n",
        "\n",
        "print(f\"Accuracy: {accuracy_anime_2:.4f}\")\n",
        "print(f\"Precision: {precision_anime_2:.4f}\")\n",
        "print(f\"F1 Score: {f1_anime_2:.4f}\")"
      ],
      "metadata": {
        "colab": {
          "base_uri": "https://localhost:8080/"
        },
        "id": "LXuauQmGR_e6",
        "outputId": "ad7d35fe-35a1-48b7-cf1e-8d43469f69a5"
      },
      "execution_count": null,
      "outputs": [
        {
          "output_type": "stream",
          "name": "stdout",
          "text": [
            "Obraz: /content/safebooru_images/Vegeta/Vegeta_7.jpg\n",
            "True label: Vegeta, Predicted label: Eren Yeager\n",
            "Obraz: /content/safebooru_images/Lelouch_Lamperouge/Lelouch_Lamperouge_31.jpg\n",
            "True label: Lelouch Lamperouge, Predicted label: Naruto\n",
            "Obraz: /content/safebooru_images/Eren_Jaeger/Eren_Jaeger_42.jpg\n",
            "True label: Eren Jaeger, Predicted label: Eren Yeager\n",
            "Obraz: /content/safebooru_images/Vegeta/Vegeta_29.jpg\n",
            "True label: Vegeta, Predicted label: Vegeta\n",
            "Obraz: /content/safebooru_images/Naruto/Naruto_10.jpg\n",
            "True label: Naruto, Predicted label: Lelouch Lamperouge\n",
            "Obraz: /content/safebooru_images/Vegeta/Vegeta_24.jpg\n",
            "True label: Vegeta, Predicted label: Vegeta\n",
            "Obraz: /content/safebooru_images/Lelouch_Lamperouge/Lelouch_Lamperouge_2.jpg\n",
            "True label: Lelouch Lamperouge, Predicted label: Vegeta\n",
            "Obraz: /content/safebooru_images/Eren_Jaeger/Eren_Jaeger_39.jpg\n",
            "True label: Eren Jaeger, Predicted label: Eren Yeager\n",
            "Obraz: /content/safebooru_images/Vegeta/Vegeta_17.jpg\n",
            "True label: Vegeta, Predicted label: Vegeta\n",
            "Obraz: /content/safebooru_images/Vegeta/Vegeta_35.jpg\n",
            "True label: Vegeta, Predicted label: Eren Yeager\n",
            "Obraz: /content/safebooru_images/Eren_Jaeger/Eren_Jaeger_2.jpg\n",
            "True label: Eren Jaeger, Predicted label: Naruto\n",
            "Obraz: /content/safebooru_images/Vegeta/Vegeta_50.jpg\n",
            "True label: Vegeta, Predicted label: Vegeta\n",
            "Obraz: /content/safebooru_images/Naruto/Naruto_34.jpg\n",
            "True label: Naruto, Predicted label: Eren Yeager\n",
            "Obraz: /content/safebooru_images/Eren_Jaeger/Eren_Jaeger_6.jpg\n",
            "True label: Eren Jaeger, Predicted label: Killua\n",
            "Obraz: /content/safebooru_images/Lelouch_Lamperouge/Lelouch_Lamperouge_29.jpg\n",
            "True label: Lelouch Lamperouge, Predicted label: Killua\n",
            "Obraz: /content/safebooru_images/Lelouch_Lamperouge/Lelouch_Lamperouge_28.jpg\n",
            "True label: Lelouch Lamperouge, Predicted label: Vegeta\n",
            "Obraz: /content/safebooru_images/Lelouch_Lamperouge/Lelouch_Lamperouge_10.jpg\n",
            "True label: Lelouch Lamperouge, Predicted label: Killua\n",
            "Obraz: /content/safebooru_images/Vegeta/Vegeta_43.jpg\n",
            "True label: Vegeta, Predicted label: Eren Yeager\n",
            "Obraz: /content/safebooru_images/Naruto/Naruto_49.jpg\n",
            "True label: Naruto, Predicted label: Lelouch Lamperouge\n",
            "Obraz: /content/safebooru_images/Vegeta/Vegeta_10.jpg\n",
            "True label: Vegeta, Predicted label: Eren Yeager\n",
            "Obraz: /content/safebooru_images/Eren_Jaeger/Eren_Jaeger_9.jpg\n",
            "True label: Eren Jaeger, Predicted label: Eren Yeager\n",
            "Obraz: /content/safebooru_images/Vegeta/Vegeta_22.jpg\n",
            "True label: Vegeta, Predicted label: Vegeta\n",
            "Obraz: /content/safebooru_images/Eren_Jaeger/Eren_Jaeger_13.jpg\n",
            "True label: Eren Jaeger, Predicted label: Vegeta\n",
            "Obraz: /content/safebooru_images/Eren_Jaeger/Eren_Jaeger_3.jpg\n",
            "True label: Eren Jaeger, Predicted label: Killua\n",
            "Obraz: /content/safebooru_images/Lelouch_Lamperouge/Lelouch_Lamperouge_40.jpg\n",
            "True label: Lelouch Lamperouge, Predicted label: Naruto\n",
            "Obraz: /content/safebooru_images/Lelouch_Lamperouge/Lelouch_Lamperouge_41.jpg\n",
            "True label: Lelouch Lamperouge, Predicted label: Eren Yeager\n",
            "Obraz: /content/safebooru_images/Naruto/Naruto_20.jpg\n",
            "True label: Naruto, Predicted label: Naruto\n",
            "Obraz: /content/safebooru_images/Vegeta/Vegeta_41.jpg\n",
            "True label: Vegeta, Predicted label: Naruto\n",
            "Obraz: /content/safebooru_images/Naruto/Naruto_7.jpg\n",
            "True label: Naruto, Predicted label: Eren Yeager\n",
            "Obraz: /content/safebooru_images/Lelouch_Lamperouge/Lelouch_Lamperouge_24.jpg\n",
            "True label: Lelouch Lamperouge, Predicted label: Eren Yeager\n",
            "Obraz: /content/safebooru_images/Lelouch_Lamperouge/Lelouch_Lamperouge_32.jpg\n",
            "True label: Lelouch Lamperouge, Predicted label: Eren Yeager\n",
            "Obraz: /content/safebooru_images/Lelouch_Lamperouge/Lelouch_Lamperouge_49.jpg\n",
            "True label: Lelouch Lamperouge, Predicted label: Eren Yeager\n",
            "Obraz: /content/safebooru_images/Naruto/Naruto_42.jpg\n",
            "True label: Naruto, Predicted label: Naruto\n",
            "Obraz: /content/safebooru_images/Eren_Jaeger/Eren_Jaeger_40.jpg\n",
            "True label: Eren Jaeger, Predicted label: Lelouch Lamperouge\n",
            "Obraz: /content/safebooru_images/Vegeta/Vegeta_37.jpg\n",
            "True label: Vegeta, Predicted label: Naruto\n",
            "Obraz: /content/safebooru_images/Naruto/Naruto_2.jpg\n",
            "True label: Naruto, Predicted label: Eren Yeager\n",
            "Obraz: /content/safebooru_images/Naruto/Naruto_30.jpg\n",
            "True label: Naruto, Predicted label: Naruto\n",
            "Obraz: /content/safebooru_images/Lelouch_Lamperouge/Lelouch_Lamperouge_42.jpg\n",
            "True label: Lelouch Lamperouge, Predicted label: Vegeta\n",
            "Obraz: /content/safebooru_images/Eren_Jaeger/Eren_Jaeger_8.jpg\n",
            "True label: Eren Jaeger, Predicted label: Eren Yeager\n",
            "Obraz: /content/safebooru_images/Lelouch_Lamperouge/Lelouch_Lamperouge_16.jpg\n",
            "True label: Lelouch Lamperouge, Predicted label: Vegeta\n",
            "Obraz: /content/safebooru_images/Lelouch_Lamperouge/Lelouch_Lamperouge_17.jpg\n",
            "True label: Lelouch Lamperouge, Predicted label: Vegeta\n",
            "Obraz: /content/safebooru_images/Eren_Jaeger/Eren_Jaeger_46.jpg\n",
            "True label: Eren Jaeger, Predicted label: Eren Yeager\n",
            "Obraz: /content/safebooru_images/Naruto/Naruto_33.jpg\n",
            "True label: Naruto, Predicted label: Eren Yeager\n",
            "Obraz: /content/safebooru_images/Eren_Jaeger/Eren_Jaeger_34.jpg\n",
            "True label: Eren Jaeger, Predicted label: Eren Yeager\n",
            "Obraz: /content/safebooru_images/Eren_Jaeger/Eren_Jaeger_28.jpg\n",
            "True label: Eren Jaeger, Predicted label: Eren Yeager\n",
            "Obraz: /content/safebooru_images/Eren_Jaeger/Eren_Jaeger_16.jpg\n",
            "True label: Eren Jaeger, Predicted label: Eren Yeager\n",
            "Obraz: /content/safebooru_images/Naruto/Naruto_17.jpg\n",
            "True label: Naruto, Predicted label: Naruto\n",
            "Obraz: /content/safebooru_images/Vegeta/Vegeta_46.jpg\n",
            "True label: Vegeta, Predicted label: Naruto\n",
            "Obraz: /content/safebooru_images/Naruto/Naruto_29.jpg\n",
            "True label: Naruto, Predicted label: Eren Yeager\n",
            "Obraz: /content/safebooru_images/Naruto/Naruto_21.jpg\n",
            "True label: Naruto, Predicted label: Vegeta\n",
            "Accuracy: 0.1800\n",
            "Precision: 0.1960\n",
            "F1 Score: 0.1873\n"
          ]
        }
      ]
    },
    {
      "cell_type": "markdown",
      "source": [
        "# **KOŃCOWE PORÓWNANIE METRYK DLA WSZSYTKICH MODELI**"
      ],
      "metadata": {
        "id": "GCrXkxsnVgbf"
      }
    },
    {
      "cell_type": "code",
      "source": [
        "print(f\"WYNIKI MODELU CLIP\")\n",
        "print(f\"Accuracy: {accuracy_clip:.4f}\")\n",
        "print(f\"Precision: {precision_clip:.4f}\")\n",
        "print(f\"F1 Score: {f1_clip:.4f}\\n\")\n",
        "\n",
        "print(f\"WYNIKI MODELU top_15_anime_characters_image_detection\")\n",
        "print(f\"Accuracy: {accuracy_anime:.4f}\")\n",
        "print(f\"Precision: {precision_anime:.4f}\")\n",
        "print(f\"F1 Score: {f1_anime:.4f}\\n\")\n",
        "\n",
        "print(f\"WYNIKI MODELU AnimeCharacterClassifierMark1\")\n",
        "print(f\"Accuracy: {accuracy_anime_2:.4f}\")\n",
        "print(f\"Precision: {precision_anime_2:.4f}\")\n",
        "print(f\"F1 Score: {f1_anime_2:.4f}\")"
      ],
      "metadata": {
        "colab": {
          "base_uri": "https://localhost:8080/"
        },
        "id": "1J2HoMDMSCai",
        "outputId": "5b4e26f8-4ff7-4951-a6d6-2e630c96aaec"
      },
      "execution_count": null,
      "outputs": [
        {
          "output_type": "stream",
          "name": "stdout",
          "text": [
            "WYNIKI MODELU CLIP\n",
            "Accuracy: 0.6800\n",
            "Precision: 0.7014\n",
            "F1 Score: 0.6886\n",
            "\n",
            "WYNIKI MODELU top_15_anime_characters_image_detection\n",
            "Accuracy: 0.3400\n",
            "Precision: 0.6578\n",
            "F1 Score: 0.4177\n",
            "\n",
            "WYNIKI MODELU AnimeCharacterClassifierMark1\n",
            "Accuracy: 0.1800\n",
            "Precision: 0.1960\n",
            "F1 Score: 0.1873\n"
          ]
        }
      ]
    }
  ]
}